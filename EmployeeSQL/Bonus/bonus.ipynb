{
 "cells": [
  {
   "cell_type": "code",
   "execution_count": 8,
   "metadata": {},
   "outputs": [],
   "source": [
    "import pandas as pd\n",
    "import matplotlib.pyplot as plt\n",
    "import psycopg2\n",
    "import numpy as np\n",
    "\n",
    "#config\n",
    "from config import config"
   ]
  },
  {
   "cell_type": "code",
   "execution_count": 9,
   "metadata": {},
   "outputs": [],
   "source": [
    "# Obtain the configuration parameters\n",
    "params = config()\n",
    "# Connect to the PostgreSQL database\n",
    "conn = psycopg2.connect(**params)\n",
    "# Create a new cursor\n",
    "cur = conn.cursor()\n",
    "\n",
    "# A function that takes in a PostgreSQL query and outputs a pandas database \n",
    "def create_pandas_table(sql_query, database = conn):\n",
    "    table = pd.read_sql_query(sql_query, database)\n",
    "    return table\n",
    "  \n",
    "# Utilize the create_pandas_table function to create a Pandas data frame\n",
    "# Store the data as a variable\n",
    "average_salary = create_pandas_table(\"\"\"SELECT employees.emp_no, salaries.salary, titles.title \n",
    "                                  FROM employees\n",
    "                                  LEFT JOIN titles ON employees.emp_no = titles.emp_no\n",
    "                                  LEFT JOIN salaries ON employees.emp_no = salaries.emp_no;\"\"\")\n",
    "\n",
    "salary_range = create_pandas_table(\"\"\"SELECT * \n",
    "                                  FROM salaries\"\"\")\n",
    "\n",
    "# Close the cursor and connection to so the server can allocate\n",
    "# bandwidth to other requests\n",
    "cur.close()\n",
    "conn.close()"
   ]
  },
  {
   "cell_type": "code",
   "execution_count": 10,
   "metadata": {},
   "outputs": [
    {
     "data": {
      "text/html": [
       "<div>\n",
       "<style scoped>\n",
       "    .dataframe tbody tr th:only-of-type {\n",
       "        vertical-align: middle;\n",
       "    }\n",
       "\n",
       "    .dataframe tbody tr th {\n",
       "        vertical-align: top;\n",
       "    }\n",
       "\n",
       "    .dataframe thead th {\n",
       "        text-align: right;\n",
       "    }\n",
       "</style>\n",
       "<table border=\"1\" class=\"dataframe\">\n",
       "  <thead>\n",
       "    <tr style=\"text-align: right;\">\n",
       "      <th></th>\n",
       "      <th>emp_no</th>\n",
       "      <th>salary</th>\n",
       "      <th>title</th>\n",
       "    </tr>\n",
       "  </thead>\n",
       "  <tbody>\n",
       "    <tr>\n",
       "      <th>0</th>\n",
       "      <td>10001</td>\n",
       "      <td>60117</td>\n",
       "      <td>Senior Engineer</td>\n",
       "    </tr>\n",
       "    <tr>\n",
       "      <th>1</th>\n",
       "      <td>10005</td>\n",
       "      <td>78228</td>\n",
       "      <td>Senior Staff</td>\n",
       "    </tr>\n",
       "    <tr>\n",
       "      <th>2</th>\n",
       "      <td>10005</td>\n",
       "      <td>78228</td>\n",
       "      <td>Staff</td>\n",
       "    </tr>\n",
       "    <tr>\n",
       "      <th>3</th>\n",
       "      <td>10010</td>\n",
       "      <td>72488</td>\n",
       "      <td>Engineer</td>\n",
       "    </tr>\n",
       "    <tr>\n",
       "      <th>4</th>\n",
       "      <td>10011</td>\n",
       "      <td>42365</td>\n",
       "      <td>Staff</td>\n",
       "    </tr>\n",
       "    <tr>\n",
       "      <th>...</th>\n",
       "      <td>...</td>\n",
       "      <td>...</td>\n",
       "      <td>...</td>\n",
       "    </tr>\n",
       "    <tr>\n",
       "      <th>443303</th>\n",
       "      <td>499972</td>\n",
       "      <td>41002</td>\n",
       "      <td>Senior Engineer</td>\n",
       "    </tr>\n",
       "    <tr>\n",
       "      <th>443304</th>\n",
       "      <td>499985</td>\n",
       "      <td>40000</td>\n",
       "      <td>Staff</td>\n",
       "    </tr>\n",
       "    <tr>\n",
       "      <th>443305</th>\n",
       "      <td>499987</td>\n",
       "      <td>52282</td>\n",
       "      <td>Staff</td>\n",
       "    </tr>\n",
       "    <tr>\n",
       "      <th>443306</th>\n",
       "      <td>499998</td>\n",
       "      <td>40000</td>\n",
       "      <td>Senior Staff</td>\n",
       "    </tr>\n",
       "    <tr>\n",
       "      <th>443307</th>\n",
       "      <td>499998</td>\n",
       "      <td>40000</td>\n",
       "      <td>Staff</td>\n",
       "    </tr>\n",
       "  </tbody>\n",
       "</table>\n",
       "<p>443308 rows × 3 columns</p>\n",
       "</div>"
      ],
      "text/plain": [
       "        emp_no  salary            title\n",
       "0        10001   60117  Senior Engineer\n",
       "1        10005   78228     Senior Staff\n",
       "2        10005   78228            Staff\n",
       "3        10010   72488         Engineer\n",
       "4        10011   42365            Staff\n",
       "...        ...     ...              ...\n",
       "443303  499972   41002  Senior Engineer\n",
       "443304  499985   40000            Staff\n",
       "443305  499987   52282            Staff\n",
       "443306  499998   40000     Senior Staff\n",
       "443307  499998   40000            Staff\n",
       "\n",
       "[443308 rows x 3 columns]"
      ]
     },
     "execution_count": 10,
     "metadata": {},
     "output_type": "execute_result"
    }
   ],
   "source": [
    "salary_range\n",
    "average_salary"
   ]
  },
  {
   "cell_type": "code",
   "execution_count": 11,
   "metadata": {
    "scrolled": false
   },
   "outputs": [
    {
     "data": {
      "image/png": "[encoded data removed]",
      "text/plain": [
       "<Figure size 720x432 with 1 Axes>"
      ]
     },
     "metadata": {
      "needs_background": "light"
     },
     "output_type": "display_data"
    }
   ],
   "source": [
    "# 2. Create a histogram to visualize the most common salary ranges for employees.\n",
    "plt.figure(figsize = (10,6))\n",
    "plt.title(\"Salary Histogram - 20 Bins\")\n",
    "plt.xlabel('Salary')\n",
    "ax2 = salary_range[\"salary\"].plot.hist(bins=20, alpha = 0.5)\n",
    "plt.savefig(\"Salary Histogram.png\")"
   ]
  },
  {
   "cell_type": "code",
   "execution_count": 12,
   "metadata": {},
   "outputs": [
    {
     "data": {
      "image/png": "[encoded data removed]",
      "text/plain": [
       "<Figure size 720x432 with 1 Axes>"
      ]
     },
     "metadata": {
      "needs_background": "light"
     },
     "output_type": "display_data"
    }
   ],
   "source": [
    "# 3. Create a bar chart of average salary by title.\n",
    "avg_salary = average_salary.groupby(['title'])['salary'].mean()\n",
    "df_salary = pd.DataFrame({\"avg salary\": avg_salary})\n",
    "df_salary = df_salary.reset_index().sort_values('avg salary', ascending = True)\n",
    "\n",
    "fig, ax = plt.subplots(figsize = (10,6))\n",
    "rects = ax.bar(df_salary[\"title\"], df_salary[\"avg salary\"], alpha = .5)\n",
    "\n",
    "ax.set_ylabel('Average Salary', fontsize = 13)\n",
    "ax.set_title('Average Salary by Position', fontsize = 16)\n",
    "ax.set_xticks(df_salary[\"title\"])\n",
    "plt.xticks(rotation = 90)\n",
    "plt.tight_layout()\n",
    "plt.savefig(\"Average Salary by Position.png\")"
   ]
  },
  {
   "cell_type": "code",
   "execution_count": null,
   "metadata": {},
   "outputs": [],
   "source": []
  }
 ],
 "metadata": {
  "kernelspec": {
   "display_name": "Python 3",
   "language": "python",
   "name": "python3"
  },
  "language_info": {
   "codemirror_mode": {
    "name": "ipython",
    "version": 3
   },
   "file_extension": ".py",
   "mimetype": "text/x-python",
   "name": "python",
   "nbconvert_exporter": "python",
   "pygments_lexer": "ipython3",
   "version": "3.7.5"
  }
 },
 "nbformat": 4,
 "nbformat_minor": 2
}
